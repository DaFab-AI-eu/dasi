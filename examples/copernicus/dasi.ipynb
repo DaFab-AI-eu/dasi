{
 "cells": [
  {
   "cell_type": "markdown",
   "id": "e2fdd060-bcb8-4a5b-a760-55632a512819",
   "metadata": {
    "editable": true,
    "slideshow": {
     "slide_type": ""
    },
    "tags": []
   },
   "source": [
    "# Archive Copernicus STAC Assets into DASI Database\n",
    "\n",
    "This example demonstrates how to use the STAC (SpatioTemporal Asset Catalog) API to search Sentinel-2 Level 2A data based on specific parameters; date range, cloud coverage, and geographic area (bounding box).\n",
    "\n",
    "We define a bounding box (around Bonn) as the area of interest (AOI), 01-31 January 2025 as the date, and < 30% as the cloud cover. We then search for Sentinel-2 Level 2A data that meets these criteria.\n",
    "\n",
    "We use the `pystac_client` Python library to interact with the STAC (SpatioTemporal Asset Catalog) API endpoint of the Copernicus Data Space Ecosystem.\n",
    "\n",
    "## Workflow\n",
    "\n",
    "1. Define the area of interest (AOI) as a bounding box.\n",
    "2. Define the date range.\n",
    "3. Define the cloud coverage.\n",
    "4. Search for Sentinel-2 Level 2A data based on the defined parameters.\n",
    "5. Archive the search results to DASI database.\n"
   ]
  },
  {
   "cell_type": "markdown",
   "id": "ce230dec-64d3-45c3-bf27-2a3bce7ccd60",
   "metadata": {},
   "source": [
    "## Requirements\n",
    "\n",
    "- `pydasi`: DASI Python API.\n",
    "- `boto3`: used to interact with S3 endpoints.\n",
    "- `pystac_client`: used to interact with STAC services, reading catalog information, and searching for products."
   ]
  },
  {
   "cell_type": "code",
   "execution_count": 1,
   "id": "68f46d3c-c85d-4841-82c1-01bdb9fe58ab",
   "metadata": {},
   "outputs": [],
   "source": [
    "!pip install pystac_client --quiet && pip install boto3 --quiet && pip install pydasi --quiet\n",
    "import os"
   ]
  },
  {
   "cell_type": "markdown",
   "id": "1bb05d26-29bc-4562-bebf-52bdbcf55e9f",
   "metadata": {},
   "source": [
    "## Copernicus STAC Catalog\n",
    "\n",
    "We initialize a STAC client and configure it to ensure that the catalog supports item search. The `add_conforms_to` method on the catalog object adds a conformance class \"ITEM_SEARCH\", indicating that the catalog supports item search functionality.\n",
    "\n",
    "The Copernicus STAC catalog is available at [https://stac.dataspace.copernicus.eu/v1](https://stac.dataspace.copernicus.eu/v1).\n"
   ]
  },
  {
   "cell_type": "code",
   "execution_count": 2,
   "id": "831db1d3-02c3-401f-98c1-bd07eb3c1c3e",
   "metadata": {},
   "outputs": [],
   "source": [
    "from pystac_client import Client\n",
    "\n",
    "catalog = Client.open(\"https://stac.dataspace.copernicus.eu/v1\")\n",
    "catalog.add_conforms_to(\"ITEM_SEARCH\")"
   ]
  },
  {
   "cell_type": "markdown",
   "id": "3e75f669-5fa5-49c7-91d6-3dbc0324f957",
   "metadata": {},
   "source": [
    "## Area of Interest (AOI)\n",
    "\n",
    "We define the geographical area of interest (e.g., Bonn/Germany) coordinates in GeoJSON format.\n"
   ]
  },
  {
   "cell_type": "code",
   "execution_count": 3,
   "id": "e33d75a7-059a-4a58-b41a-dc76624e298f",
   "metadata": {},
   "outputs": [],
   "source": [
    "aoi = {\n",
    "    \"type\": \"Polygon\",\n",
    "    \"coordinates\": [\n",
    "        [\n",
    "            [6.95, 50.85],\n",
    "            [6.95, 50.65],\n",
    "            [7.25, 50.65],\n",
    "            [7.25, 50.85],\n",
    "            [6.95, 50.85],\n",
    "        ]\n",
    "    ],\n",
    "}"
   ]
  },
  {
   "cell_type": "markdown",
   "id": "86ebf7ee-e7bd-4451-ab06-5d9c21c72cfc",
   "metadata": {
    "editable": true,
    "slideshow": {
     "slide_type": ""
    },
    "tags": []
   },
   "source": [
    "## Query STAC Catalog\n",
    "\n",
    "We query the STAC catalog for Sentinel-2 Level 2A data based on the defined parameters below.\n",
    "\n",
    "### Parameters\n",
    "\n",
    "- `collections`: The STAC collection (e.g., Sentinel-2 Level 2A data).\n",
    "- `datetime`: Date range.\n",
    "- `intersects`: The geographical area.\n",
    "- `filter`: Filters the data based on specific properties. JSON object with an operator (op) and arguments (args), which specify the filtering condition (e.g., cloud_cover < 10).\n",
    "- `max_items`: The maximum number of results to retrieve.\n",
    "<!-- * `sortby`: Sorts results (e.g., by the eo:cloud_cover property in ascending order). -->\n",
    "- `fields`: Used to exclude geometry.\n"
   ]
  },
  {
   "cell_type": "code",
   "execution_count": 4,
   "id": "e0c41bf5-af5c-4b5c-91d6-713a79d1842f",
   "metadata": {},
   "outputs": [
    {
     "name": "stdout",
     "output_type": "stream",
     "text": [
      "Found 4 items.\n"
     ]
    }
   ],
   "source": [
    "params = {\n",
    "    \"max_items\": 10,\n",
    "    \"collections\": \"sentinel-2-l2a\",\n",
    "    \"datetime\": \"2025-01-01/2025-01-31\",\n",
    "    \"intersects\": aoi,\n",
    "    \"filter\": {\"op\": \"<\", \"args\": [{\"property\": \"eo:cloud_cover\"}, 30]},\n",
    "    \"fields\": {\"exclude\": [\"geometry\"]},\n",
    "}\n",
    "\n",
    "results = catalog.search(**params)\n",
    "\n",
    "print(f\"Found {len(results.item_collection())} items.\")"
   ]
  },
  {
   "cell_type": "markdown",
   "id": "7c094db5-aa5e-4067-80ca-62a8731737ed",
   "metadata": {},
   "source": [
    "## Archive STAC Items (Metadata JSON)\n",
    "\n",
    "In this step, we iterate over the search results and archive each STAC item along with its metadata into the DASI database.\n"
   ]
  },
  {
   "cell_type": "code",
   "execution_count": null,
   "id": "e5ffa24a",
   "metadata": {},
   "outputs": [
    {
     "name": "stdout",
     "output_type": "stream",
     "text": [
      "===============================================\n",
      "=   DASI: Data Access and Storage Interface   =\n",
      "===============================================\n",
      "Searching library 'dasi' ...\n",
      "found: '/workspace/dasi/pydasi/src/backend/libs/Linux/libdasi.so.0.2.6'\n",
      "Processing: https://stac.dataspace.copernicus.eu/v1/collections/sentinel-2-l2a/items/S2A_MSIL2A_20250118T103351_N0511_R108_T32ULB_20250118T143252\n",
      "Archived: {'collection': 'sentinel-2-l2a', 'bbox': '[6.59, 50.44, 7.73, 51.44]', 'grid': 'MGRS-32ULB', 'date': '2025-01-18T10:33:51.024Z', 'cloud_cover': 20.1, 'snow_cover': 15.35, 'water': 1.402335, 'darkarea': 8.766965, 'vegetation': 12.458074, 'cloudshadow': 0.0}\n",
      "Processing: https://stac.dataspace.copernicus.eu/v1/collections/sentinel-2-l2a/items/S2A_MSIL2A_20250118T103351_N0511_R108_T31UGS_20250118T143252\n",
      "Archived: {'collection': 'sentinel-2-l2a', 'bbox': '[6.57, 50.38, 7.45, 51.38]', 'grid': 'MGRS-31UGS', 'date': '2025-01-18T10:33:51.024Z', 'cloud_cover': 25.96, 'snow_cover': 10.13, 'water': 1.646185, 'darkarea': 7.669812, 'vegetation': 12.455364, 'cloudshadow': 0.000839}\n",
      "Processing: https://stac.dataspace.copernicus.eu/v1/collections/sentinel-2-l2a/items/S2B_MSIL2A_20250113T103309_N0511_R108_T32ULB_20250113T124201\n",
      "Archived: {'collection': 'sentinel-2-l2a', 'bbox': '[6.59, 50.44, 7.73, 51.44]', 'grid': 'MGRS-32ULB', 'date': '2025-01-13T10:33:09.024Z', 'cloud_cover': 5.06, 'snow_cover': 60.29, 'water': 1.520125, 'darkarea': 8.644292, 'vegetation': 2.14729, 'cloudshadow': 0.0}\n",
      "Processing: https://stac.dataspace.copernicus.eu/v1/collections/sentinel-2-l2a/items/S2B_MSIL2A_20250113T103309_N0511_R108_T31UGS_20250113T124201\n",
      "Archived: {'collection': 'sentinel-2-l2a', 'bbox': '[6.58, 50.38, 7.45, 51.38]', 'grid': 'MGRS-31UGS', 'date': '2025-01-13T10:33:09.024Z', 'cloud_cover': 5.55, 'snow_cover': 55.11, 'water': 1.760073, 'darkarea': 8.481669, 'vegetation': 2.668849, 'cloudshadow': 0.0}\n"
     ]
    }
   ],
   "source": [
    "from pydasi import Dasi\n",
    "import urllib.request\n",
    "\n",
    "dasi = Dasi(\"metadata.yaml\")\n",
    "\n",
    "for item in results.items_as_dicts():\n",
    "\n",
    "    # reduce string size (which is limited to 32 chars)\n",
    "    bbox = [round(x, 2) for x in item[\"bbox\"]]\n",
    "\n",
    "    # create a metadata key for the archive\n",
    "    meta_key = {\n",
    "        \"collection\": item[\"collection\"],\n",
    "        \"bbox\": str(bbox),\n",
    "        \"grid\": item[\"properties\"][\"grid:code\"],\n",
    "        \"date\": item[\"properties\"][\"datetime\"],\n",
    "        \"cloud_cover\": item[\"properties\"][\"eo:cloud_cover\"],\n",
    "        \"snow_cover\": item[\"properties\"][\"eo:snow_cover\"],\n",
    "        \"water\": item[\"properties\"][\"statistics\"][\"water\"],\n",
    "        \"darkarea\": item[\"properties\"][\"statistics\"][\"dark_area\"],\n",
    "        \"vegetation\": item[\"properties\"][\"statistics\"][\"vegetation\"],\n",
    "        \"cloudshadow\": item[\"properties\"][\"statistics\"][\"cloud_shadow\"],\n",
    "    }\n",
    "\n",
    "    # get the STAC item's link\n",
    "    href = next(link[\"href\"] for link in item[\"links\"] if link[\"rel\"] == \"self\")\n",
    "\n",
    "    with urllib.request.urlopen(href) as response:\n",
    "        print(\"Processing: %s\" % href)\n",
    "        feature = response.read()\n",
    "        # print(len(feature))\n",
    "        dasi.archive(meta_key, feature)\n",
    "        print(\"Archived: %s\" % meta_key)\n",
    "\n",
    "dasi.flush()"
   ]
  },
  {
   "cell_type": "markdown",
   "id": "fd6dbfae-bde8-4ece-afa5-f8557606c52b",
   "metadata": {},
   "source": [
    "## Archive STAC Item Assets\n",
    "\n",
    "We iterate over the search results and archive each STAC item's assets (e.g., bands) into the DASI database.\n",
    "\n",
    "The bands we select to be used are:\n",
    "\n",
    "- `B04_10m`: Red band\n",
    "- `B03_10m`: Green band\n",
    "- `B02_10m`: Blue band\n"
   ]
  },
  {
   "cell_type": "markdown",
   "id": "a3b39bd9-0f65-4a92-ac3b-dc5c1cdf248e",
   "metadata": {},
   "source": [
    "### S3 API Access\n",
    "\n",
    "We use the S3 API for high-performance and scalable access to the EO data. S3 API is a RESTful API that provides access to the Copernicus EO data stored in the cloud.\n",
    "\n",
    "For accessing the EO Data, one must register on the [Copernicus Data Space Ecosystem](https://documentation.dataspace.copernicus.eu/APIs/S3.html#registration) and obtain the access credentials.\n",
    "\n",
    "We set the following environment variables:\n",
    "\n",
    "- `AWS_ACCESS_KEY_ID`\n",
    "- `AWS_SECRET_ACCESS_KEY`.\n"
   ]
  },
  {
   "cell_type": "code",
   "execution_count": null,
   "id": "8e1400f3",
   "metadata": {},
   "outputs": [],
   "source": [
    "os.environ[\"AWS_ACCESS_KEY_ID\"] = \"\"\n",
    "os.environ[\"AWS_SECRET_ACCESS_KEY\"] = \"\""
   ]
  },
  {
   "cell_type": "markdown",
   "id": "e36201fb",
   "metadata": {},
   "source": [
    "### Fetch S3 URLs\n",
    "\n",
    "We use the Python library `boto3` to fetch the S3 assets. We define a function that returns the s3 objects from the EO data endpoint url.\n"
   ]
  },
  {
   "cell_type": "code",
   "execution_count": 7,
   "id": "30ef57f8",
   "metadata": {},
   "outputs": [
    {
     "name": "stdout",
     "output_type": "stream",
     "text": [
      "Found credentials in environment variables.\n"
     ]
    }
   ],
   "source": [
    "import boto3\n",
    "\n",
    "s3 = boto3.resource(\"s3\", endpoint_url=\"https://eodata.dataspace.copernicus.eu\")\n",
    "\n",
    "\n",
    "def fetch_s3_asset(asset_href):\n",
    "    bucket, key = asset_href.lstrip(\"s3://\").split(\"/\", 1)\n",
    "    response = s3.Object(bucket, key).get()\n",
    "    return response[\"Body\"].read()"
   ]
  },
  {
   "cell_type": "markdown",
   "id": "90809f22",
   "metadata": {},
   "source": [
    "### Archive Assets into DASI Database\n",
    "\n",
    "We fetch only the selected assets and archive into the DASI database.\n"
   ]
  },
  {
   "cell_type": "code",
   "execution_count": null,
   "id": "416d6057",
   "metadata": {},
   "outputs": [
    {
     "name": "stdout",
     "output_type": "stream",
     "text": [
      "Fetching asset 'B02_10m' from item 'S2A_MSIL2A_20250118T103351_N0511_R108_T32ULB_20250118T143252'\n",
      "Archived: {'collection': 'sentinel-2-l2a', 'date': '2025-01-18T10:33:51.024Z', 'grid': 'MGRS-32ULB', 'cloud_cover': 20.1, 'snow_cover': 15.35, 'name': 'B02', 'gsd': 10, 'type': 'jp2', 'bbox': [6.59, 50.44, 7.73, 51.44]}\n",
      "Fetching asset 'B02_10m' from item 'S2A_MSIL2A_20250118T103351_N0511_R108_T31UGS_20250118T143252'\n",
      "Archived: {'collection': 'sentinel-2-l2a', 'date': '2025-01-18T10:33:51.024Z', 'grid': 'MGRS-31UGS', 'cloud_cover': 25.96, 'snow_cover': 10.13, 'name': 'B02', 'gsd': 10, 'type': 'jp2', 'bbox': [6.57, 50.38, 7.45, 51.38]}\n",
      "Fetching asset 'B02_10m' from item 'S2B_MSIL2A_20250113T103309_N0511_R108_T32ULB_20250113T124201'\n",
      "Archived: {'collection': 'sentinel-2-l2a', 'date': '2025-01-13T10:33:09.024Z', 'grid': 'MGRS-32ULB', 'cloud_cover': 5.06, 'snow_cover': 60.29, 'name': 'B02', 'gsd': 10, 'type': 'jp2', 'bbox': [6.59, 50.44, 7.73, 51.44]}\n",
      "Fetching asset 'B02_10m' from item 'S2B_MSIL2A_20250113T103309_N0511_R108_T31UGS_20250113T124201'\n",
      "Archived: {'collection': 'sentinel-2-l2a', 'date': '2025-01-13T10:33:09.024Z', 'grid': 'MGRS-31UGS', 'cloud_cover': 5.55, 'snow_cover': 55.11, 'name': 'B02', 'gsd': 10, 'type': 'jp2', 'bbox': [6.58, 50.38, 7.45, 51.38]}\n"
     ]
    }
   ],
   "source": [
    "# rgb = stack.sel(band=[\"SCL_20m\",\"B02_10m\", \"B03_10m\", \"B04_10m\", \"B08_10m\"])\n",
    "bands = [\"B02_10m\"]\n",
    "\n",
    "dasi = Dasi(\"assets.yaml\")\n",
    "\n",
    "for item in results.items():\n",
    "\n",
    "    for asset_key, asset in item.assets.items():\n",
    "\n",
    "        if asset_key not in bands:\n",
    "            continue\n",
    "\n",
    "        print(f\"Fetching asset '{asset_key}' from item '{item.id}'\")\n",
    "\n",
    "        asset_dic = asset.to_dict()\n",
    "\n",
    "        # create a metadata key for the archive\n",
    "        asset_key = {\n",
    "            \"collection\": item.collection_id,\n",
    "            \"date\": item.properties[\"datetime\"],\n",
    "            \"grid\": item.properties[\"grid:code\"],\n",
    "            \"date\": item.properties[\"datetime\"],\n",
    "            \"cloud_cover\": item.properties[\"eo:cloud_cover\"],\n",
    "            \"snow_cover\": item.properties[\"eo:snow_cover\"],\n",
    "            \"name\": asset_dic[\"bands\"][0][\"name\"],\n",
    "            \"gsd\": asset_dic[\"gsd\"],\n",
    "            \"type\": asset_dic[\"type\"].split(\"/\")[1],\n",
    "        }\n",
    "\n",
    "        if item.bbox is not None:\n",
    "            # reduce string size (which is limited to 32 chars)\n",
    "            asset_key[\"bbox\"] = [round(x, 2) for x in item.bbox]\n",
    "\n",
    "        # fetch the asset to memory\n",
    "        data = fetch_s3_asset(asset.href)\n",
    "\n",
    "        dasi.archive(asset_key, data)\n",
    "        print(\"Archived: %s\" % asset_key)"
   ]
  }
 ],
 "metadata": {
  "kernelspec": {
   "display_name": ".venv",
   "language": "python",
   "name": "python3"
  },
  "language_info": {
   "codemirror_mode": {
    "name": "ipython",
    "version": 3
   },
   "file_extension": ".py",
   "mimetype": "text/x-python",
   "name": "python",
   "nbconvert_exporter": "python",
   "pygments_lexer": "ipython3",
   "version": "3.11.11"
  }
 },
 "nbformat": 4,
 "nbformat_minor": 5
}
